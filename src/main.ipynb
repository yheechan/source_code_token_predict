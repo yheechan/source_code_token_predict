{
 "cells": [
  {
   "cell_type": "code",
   "execution_count": 1,
   "metadata": {},
   "outputs": [],
   "source": [
    "proj_list = [\n",
    "    'boringssl_total', 'c-ares_total',\n",
    "    'freetype2_total', 'guetzli_total',\n",
    "    'harfbuzz_total', 'libpng_total',\n",
    "    'libssh_total', 'libxml2_total',\n",
    "    'pcre_total', 'proj4_total',\n",
    "    're2_total', 'sqlite3_total',\n",
    "    'total', 'vorbis_total',\n",
    "    'woff2_total', 'wpantund_total'\n",
    "]"
   ]
  },
  {
   "cell_type": "code",
   "execution_count": 2,
   "metadata": {},
   "outputs": [],
   "source": [
    "from sklearn.model_selection import train_test_split\n",
    "import torch\n",
    "\n",
    "from torch.utils.tensorboard import SummaryWriter\n",
    "from datetime import datetime\n",
    "\n",
    "import data\n",
    "import data_loader as dl\n",
    "import initializer as init\n",
    "import trainer\n",
    "import tester\n",
    "import predictor\n",
    "import model_util as mu\n",
    "import pretrained_model as pm\n",
    "\n",
    "import os\n",
    "os.environ['CUDA_LAUNCH_BLOCKING'] = \"1\"\n",
    "os.environ[\"CUDA_VISIBLE_DEVICES\"] = \"0\""
   ]
  },
  {
   "cell_type": "code",
   "execution_count": 3,
   "metadata": {},
   "outputs": [
    {
     "name": "stdout",
     "output_type": "stream",
     "text": [
      "Getting data for \"boringssl_total\" from \"c-ares_total\"\n",
      "Getting data for \"boringssl_total\" from \"freetype2_total\"\n",
      "Getting data for \"boringssl_total\" from \"guetzli_total\"\n",
      "Getting data for \"boringssl_total\" from \"harfbuzz_total\"\n",
      "Getting data for \"boringssl_total\" from \"libpng_total\"\n",
      "Getting data for \"boringssl_total\" from \"libssh_total\"\n",
      "Getting data for \"boringssl_total\" from \"libxml2_total\"\n",
      "Getting data for \"boringssl_total\" from \"pcre_total\"\n",
      "Getting data for \"boringssl_total\" from \"proj4_total\"\n",
      "Getting data for \"boringssl_total\" from \"re2_total\"\n",
      "Getting data for \"boringssl_total\" from \"sqlite3_total\"\n",
      "Getting data for \"boringssl_total\" from \"vorbis_total\"\n",
      "Getting data for \"boringssl_total\" from \"woff2_total\"\n",
      "Getting data for \"boringssl_total\" from \"wpantund_total\"\n"
     ]
    }
   ],
   "source": [
    "prefix_np, postfix_np, label_np = data.getSingleProjectData(proj_list, proj_list[0])"
   ]
  },
  {
   "cell_type": "code",
   "execution_count": null,
   "metadata": {},
   "outputs": [],
   "source": [
    "test_prefix, test_postfix, test_label = data.getTestData(proj_list[0])"
   ]
  },
  {
   "cell_type": "code",
   "execution_count": 4,
   "metadata": {},
   "outputs": [],
   "source": [
    "train_prefix, val_prefix, train_postfix, val_postfix, train_label, val_label = train_test_split(\n",
    "    prefix_np, postfix_np, label_np, test_size = 0.2, random_state = 43\n",
    ")\n",
    "\n",
    "# train_prefix, val_prefix, train_postfix, val_postfix, train_label, val_label = train_test_split(\n",
    "#     train_prefix, train_postfix, train_label, test_size = 0.1, random_state = 43\n",
    "# )"
   ]
  },
  {
   "cell_type": "code",
   "execution_count": 5,
   "metadata": {},
   "outputs": [],
   "source": [
    "train_dataloader, val_dataloader, test_dataloader =\\\n",
    "    dl.data_loader(\n",
    "        train_prefix, train_postfix,\n",
    "        val_prefix, val_postfix,\n",
    "        test_prefix, test_postfix,\n",
    "        train_label, val_label, test_label,\n",
    "        batch_size=1000\n",
    "    )"
   ]
  },
  {
   "cell_type": "code",
   "execution_count": 6,
   "metadata": {},
   "outputs": [],
   "source": [
    "# PyTorch TensorBoard support\n",
    "timestamp = datetime.now().strftime('%Y%m%d_%H%M%S')\n",
    "writer = SummaryWriter('../tensorboard/dev/tests')"
   ]
  },
  {
   "cell_type": "code",
   "execution_count": 7,
   "metadata": {},
   "outputs": [
    {
     "name": "stdout",
     "output_type": "stream",
     "text": [
      "There are 1 GPU(s) available.\n",
      "Device name: NVIDIA GeForce RTX 3070\n"
     ]
    }
   ],
   "source": [
    "if torch.cuda.is_available():\n",
    "    device = torch.device(\"cuda\")\n",
    "    print(f'There are {torch.cuda.device_count()} GPU(s) available.')\n",
    "    print('Device name:', torch.cuda.get_device_name(0))\n",
    "\n",
    "else:\n",
    "    print('No GPU available, using the CPU instead.')\n",
    "    device = torch.device(\"cpu\")"
   ]
  },
  {
   "cell_type": "code",
   "execution_count": 8,
   "metadata": {},
   "outputs": [],
   "source": [
    "# ====================\n",
    "# set parameters here\n",
    "# ====================\n",
    "\n",
    "title = 'dev-test6'\n",
    "epochs = 20\n",
    "\n",
    "embed_dim = 50\n",
    "max_len, source_code_tokens, token_choices = data.getInfo()\n",
    "pretrained_token2vec = pm.load_pretrained_model(source_code_tokens, embed_dim)\n",
    "pretrained_token2vec = torch.tensor(pretrained_token2vec)\n",
    "\n",
    "\n",
    "input_size = max_len\n",
    "hidden_size = 30\n",
    "num_classes = max(token_choices) + 1\n",
    "rnn_layers = 1\n",
    "\n",
    "num_filters = [100, 200, 100]\n",
    "kernel_sizes = [15, 21, 114]\n",
    "\n",
    "dropout = 0.0\n",
    "\n",
    "learning_rate = 0.001\n",
    "weight_decay = 1e-4\n",
    "\n",
    "model_name = \"RNN\"\n",
    "optim_name = \"Adam\"\n",
    "loss_fn_name = \"CEL\"\n",
    "\n",
    "pretrained_model = pretrained_token2vec\n",
    "freeze_embedding = False,"
   ]
  },
  {
   "cell_type": "code",
   "execution_count": 9,
   "metadata": {},
   "outputs": [
    {
     "name": "stdout",
     "output_type": "stream",
     "text": [
      "doing with pretrained model!!!\n"
     ]
    },
    {
     "name": "stderr",
     "output_type": "stream",
     "text": [
      "/home/arise/anaconda3/lib/python3.9/site-packages/torch/nn/modules/rnn.py:62: UserWarning: dropout option adds dropout after all but last recurrent layer, so non-zero dropout expects num_layers greater than 1, but got dropout=0.5 and num_layers=1\n",
      "  warnings.warn(\"dropout option adds dropout after all but last \"\n"
     ]
    },
    {
     "name": "stdout",
     "output_type": "stream",
     "text": [
      "C_rnn(\n",
      "  (emb): Embedding(213, 100)\n",
      "  (lstm1): RNN(\n",
      "    (rnn): LSTM(100, 30, batch_first=True, dropout=0.5, bidirectional=True)\n",
      "  )\n",
      "  (lstm2): RNN(\n",
      "    (rnn): LSTM(100, 30, batch_first=True, dropout=0.5, bidirectional=True)\n",
      "  )\n",
      "  (fc1): Linear(in_features=120, out_features=300, bias=True)\n",
      "  (fc2): Linear(in_features=300, out_features=213, bias=True)\n",
      "  (dp1): Dropout(p=0.5, inplace=False)\n",
      "  (dp2): Dropout(p=0.5, inplace=False)\n",
      ")\n"
     ]
    }
   ],
   "source": [
    "trainer.set_seed(42)\n",
    "\n",
    "model, optimizer, loss_fn = init.initialize_model(\n",
    "    vocab_size=input_size,\n",
    "    embed_dim=embed_dim,\n",
    "    hidden_size=hidden_size,\n",
    "    num_classes=num_classes,\n",
    "    rnn_layers=rnn_layers,\n",
    "    num_filters=num_filters,\n",
    "    kernel_sizes=kernel_sizes,\n",
    "    dropout=dropout,\n",
    "    learning_rate=learning_rate,\n",
    "    weight_decay=weight_decay,\n",
    "    model_name=model_name,\n",
    "    optim_name=optim_name,\n",
    "    loss_fn_name=loss_fn_name,\n",
    "    pretrained_model=pretrained_model,\n",
    "    freeze_embedding=freeze_embedding,\n",
    "    device=device,\n",
    ")\n",
    "\n",
    "print(model)"
   ]
  },
  {
   "cell_type": "code",
   "execution_count": 10,
   "metadata": {},
   "outputs": [
    {
     "name": "stdout",
     "output_type": "stream",
     "text": [
      "Start training...\n",
      "\n",
      " Epoch  |  Train Loss  | Train Acc  | Val Loss | Val Acc | Elapsed\n",
      "--------------------------------------------------------------------------------\n",
      "   1    |   1.188304   | 66.384738  | 0.595722 | 81.92  | 97.24 \n",
      "   2    |   0.757543   | 77.283430  | 0.505227 | 84.08  | 98.54 \n",
      "   3    |   0.682558   | 79.295397  | 0.466841 | 84.90  | 100.92\n",
      "   4    |   0.646675   | 80.289196  | 0.446648 | 85.60  | 98.69 \n",
      "   5    |   0.625427   | 80.818798  | 0.434386 | 85.82  | 95.90 \n",
      "   6    |   0.610266   | 81.212742  | 0.426572 | 86.03  | 95.67 \n",
      "   7    |   0.598249   | 81.529457  | 0.416041 | 86.26  | 96.07 \n",
      "   8    |   0.589515   | 81.773643  | 0.412124 | 86.28  | 95.02 \n",
      "   9    |   0.582212   | 81.957364  | 0.411106 | 86.47  | 95.59 \n",
      "  10    |   0.575985   | 82.113421  | 0.403395 | 86.55  | 97.01 \n",
      "  11    |   0.571031   | 82.214341  | 0.403376 | 86.47  | 95.17 \n",
      "  12    |   0.567299   | 82.334205  | 0.398205 | 86.77  | 95.54 \n",
      "  13    |   0.563849   | 82.426114  | 0.397663 | 86.74  | 96.72 \n",
      "  14    |   0.560526   | 82.503973  | 0.390476 | 86.97  | 96.78 \n",
      "  15    |   0.558490   | 82.556105  | 0.391166 | 86.96  | 97.34 \n",
      "  16    |   0.555561   | 82.644283  | 0.386821 | 86.98  | 96.91 \n",
      "  17    |   0.554005   | 82.673934  | 0.388759 | 87.16  | 95.39 \n",
      "  18    |   0.550793   | 82.729215  | 0.386663 | 86.98  | 95.05 \n",
      "  19    |   0.549535   | 82.770252  | 0.384625 | 86.98  | 95.39 \n",
      "  20    |   0.548130   | 82.799273  | 0.385746 | 86.81  | 95.18 \n",
      "\n",
      "\n",
      "Training complete! Best accuracy: 87.16%.\n"
     ]
    }
   ],
   "source": [
    "trainer.train(\n",
    "    epochs=epochs,\n",
    "    title=title,\n",
    "    writer=writer,\n",
    "    train_dataloader=train_dataloader,\n",
    "    val_dataloader=val_dataloader,\n",
    "    device=device,\n",
    "    model=model,\n",
    "    optimizer=optimizer,\n",
    "    loss_fn=loss_fn\n",
    ")"
   ]
  },
  {
   "cell_type": "code",
   "execution_count": 11,
   "metadata": {},
   "outputs": [],
   "source": [
    "mu.saveModel(title, model)"
   ]
  },
  {
   "cell_type": "code",
   "execution_count": 12,
   "metadata": {},
   "outputs": [
    {
     "name": "stdout",
     "output_type": "stream",
     "text": [
      "C_rnn(\n",
      "  (emb): Embedding(213, 50)\n",
      "  (lstm1): RNN(\n",
      "    (rnn): LSTM(50, 30, batch_first=True, bidirectional=True)\n",
      "  )\n",
      "  (lstm2): RNN(\n",
      "    (rnn): LSTM(50, 30, batch_first=True, bidirectional=True)\n",
      "  )\n",
      "  (fc1): Linear(in_features=120, out_features=300, bias=True)\n",
      "  (fc2): Linear(in_features=300, out_features=213, bias=True)\n",
      "  (dp1): Dropout(p=0.0, inplace=False)\n",
      "  (dp2): Dropout(p=0.0, inplace=False)\n",
      ")\n"
     ]
    }
   ],
   "source": [
    "model = mu.getModel('dev-test3')\n",
    "print(model)"
   ]
  },
  {
   "cell_type": "code",
   "execution_count": 13,
   "metadata": {},
   "outputs": [
    {
     "name": "stdout",
     "output_type": "stream",
     "text": [
      "test loss:  0.25398847566345545\n",
      "test acc:  91.66653543307086\n"
     ]
    },
    {
     "name": "stderr",
     "output_type": "stream",
     "text": [
      "/home/arise/anaconda3/lib/python3.9/site-packages/sklearn/metrics/_classification.py:1334: UndefinedMetricWarning: Precision and F-score are ill-defined and being set to 0.0 in labels with no predicted samples. Use `zero_division` parameter to control this behavior.\n",
      "  _warn_prf(average, modifier, msg_start, len(result))\n",
      "/home/arise/anaconda3/lib/python3.9/site-packages/sklearn/metrics/_classification.py:1334: UndefinedMetricWarning: Precision and F-score are ill-defined and being set to 0.0 in labels with no predicted samples. Use `zero_division` parameter to control this behavior.\n",
      "  _warn_prf(average, modifier, msg_start, len(result))\n",
      "/home/arise/anaconda3/lib/python3.9/site-packages/sklearn/metrics/_classification.py:1334: UndefinedMetricWarning: Precision and F-score are ill-defined and being set to 0.0 in labels with no predicted samples. Use `zero_division` parameter to control this behavior.\n",
      "  _warn_prf(average, modifier, msg_start, len(result))\n"
     ]
    },
    {
     "name": "stdout",
     "output_type": "stream",
     "text": [
      "saved precision and recall results to file!\n"
     ]
    },
    {
     "data": {
      "text/plain": [
       "(tensor([ 2.,  2., 88.,  ...,  2., 48., 88.], device='cuda:0'),\n",
       " tensor([ 2.,  2., 88.,  ...,  2., 48., 88.], device='cuda:0'))"
      ]
     },
     "execution_count": 13,
     "metadata": {},
     "output_type": "execute_result"
    }
   ],
   "source": [
    "tester.test(test_dataloader=test_dataloader,\n",
    "            device=device,\n",
    "            model=model,\n",
    "            title=title)"
   ]
  },
  {
   "cell_type": "code",
   "execution_count": 14,
   "metadata": {},
   "outputs": [
    {
     "ename": "",
     "evalue": "",
     "output_type": "error",
     "traceback": [
      "\u001b[1;31mCanceled future for execute_request message before replies were done"
     ]
    },
    {
     "ename": "",
     "evalue": "",
     "output_type": "error",
     "traceback": [
      "\u001b[1;31mThe Kernel crashed while executing code in the the current cell or a previous cell. Please review the code in the cell(s) to identify a possible cause of the failure. Click <a href='https://aka.ms/vscodeJupyterKernelCrash'>here</a> for more info. View Jupyter <a href='command:jupyter.viewOutput'>log</a> for further details."
     ]
    }
   ],
   "source": [
    "mu.graphModel(train_dataloader, model, writer)"
   ]
  },
  {
   "cell_type": "code",
   "execution_count": null,
   "metadata": {},
   "outputs": [],
   "source": [
    "prefix =[0, 0, 0, 0, 0, 0, 0, 0, 0, 0, 0, 0, 0, 0, 0, 0, 0, 0, 0, 0, 0, 0, 0, 0, 0, 0, 0, 0, 0, 0, 0, 0, 0, 0, 0, 0, 0, 0, 0, 0, 0, 0, 0, 0, 0, 0, 0, 0, 0, 0, 0, 0, 0, 0, 0, 0, 0, 0, 0, 0, 0, 0, 0, 0]\n",
    "postfix = [2, 91, 2, 56, 2, 106, 47, 2, 134, 128, 50, 88, 48, 47, 2, 49, 48, 2, 56, 2, 91, 2, 119, 91, 2, 56, 2, 106, 47, 2, 119, 128, 50, 88, 48, 47, 2, 49, 48, 2, 56, 2, 91, 2, 119, 91, 2, 56, 2, 106, 47, 2, 119, 128, 50, 88, 33, 124, 49, 48, 134, 47, 2, 119]\n",
    "label_type = 128"
   ]
  },
  {
   "cell_type": "code",
   "execution_count": null,
   "metadata": {},
   "outputs": [],
   "source": [
    "prefix =[0, 0, 0, 0, 0, 0, 0, 0, 0, 128, 119, 2, 47, 134, 48, 49, 124, 33, 88, 50, 128, 119, 2, 47, 106, 2, 56, 2, 91, 119, 2, 91, 2, 56, 2, 48, 49, 2, 47, 48, 88, 50, 128, 119, 2, 47, 106, 2, 56, 2, 91, 119, 2, 91, 2, 56, 2, 48, 49, 2, 47, 48, 88, 50]\n",
    "postfix = [48, 2, 56, 2, 106, 91, 2, 56, 2, 91, 2, 56, 2, 106, 47, 2, 134, 50, 88, 48, 47, 2, 49, 48, 2, 56, 2, 106, 91, 2, 56, 2, 91, 2, 56, 2, 106, 47, 2, 134, 128, 50, 88, 48, 47, 2, 49, 48, 2, 56, 2, 106, 91, 2, 56, 2, 91, 2, 56, 2, 106, 47, 2, 134]\n",
    "label_type = 128"
   ]
  },
  {
   "cell_type": "code",
   "execution_count": null,
   "metadata": {},
   "outputs": [],
   "source": [
    "predictor.predict(prefix, postfix, model)"
   ]
  },
  {
   "cell_type": "code",
   "execution_count": null,
   "metadata": {},
   "outputs": [],
   "source": []
  }
 ],
 "metadata": {
  "kernelspec": {
   "display_name": "Python 3.9.12 ('base')",
   "language": "python",
   "name": "python3"
  },
  "language_info": {
   "codemirror_mode": {
    "name": "ipython",
    "version": 3
   },
   "file_extension": ".py",
   "mimetype": "text/x-python",
   "name": "python",
   "nbconvert_exporter": "python",
   "pygments_lexer": "ipython3",
   "version": "3.9.12"
  },
  "orig_nbformat": 4,
  "vscode": {
   "interpreter": {
    "hash": "348b9cd948ce87438be2e622031b2ecfa29bc2d3ecc0fd03127b9a24b30227df"
   }
  }
 },
 "nbformat": 4,
 "nbformat_minor": 2
}
