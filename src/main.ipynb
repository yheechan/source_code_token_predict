{
 "cells": [
  {
   "cell_type": "code",
   "execution_count": 22,
   "metadata": {},
   "outputs": [],
   "source": [
    "proj_list = [\n",
    "    'boringssl_total', 'c-ares_total',\n",
    "    'freetype2_total', 'guetzli_total',\n",
    "    'harfbuzz_total', 'libpng_total',\n",
    "    'libssh_total', 'libxml2_total',\n",
    "    'pcre_total', 'proj4_total',\n",
    "    're2_total', 'sqlite3_total',\n",
    "    'total', 'vorbis_total',\n",
    "    'woff2_total', 'wpantund_total'\n",
    "]"
   ]
  },
  {
   "cell_type": "code",
   "execution_count": 23,
   "metadata": {},
   "outputs": [],
   "source": [
    "target_project = 0"
   ]
  },
  {
   "cell_type": "code",
   "execution_count": 24,
   "metadata": {},
   "outputs": [],
   "source": [
    "from sklearn.model_selection import train_test_split\n",
    "import torch\n",
    "import torch, gc\n",
    "\n",
    "from torch.utils.tensorboard import SummaryWriter\n",
    "from datetime import datetime\n",
    "\n",
    "import timeit\n",
    "\n",
    "import data\n",
    "import data_loader as dl\n",
    "import initializer as init\n",
    "import trainer\n",
    "import tester\n",
    "import predictor\n",
    "import model_util as mu\n",
    "import pretrained_model as pm\n",
    "\n",
    "import os"
   ]
  },
  {
   "cell_type": "code",
   "execution_count": 25,
   "metadata": {},
   "outputs": [
    {
     "name": "stdout",
     "output_type": "stream",
     "text": [
      "|===========================================================================|\n",
      "|                  PyTorch CUDA memory summary, device ID 0                 |\n",
      "|---------------------------------------------------------------------------|\n",
      "|            CUDA OOMs: 0            |        cudaMalloc retries: 0         |\n",
      "|===========================================================================|\n",
      "|        Metric         | Cur Usage  | Peak Usage | Tot Alloc  | Tot Freed  |\n",
      "|---------------------------------------------------------------------------|\n",
      "| Allocated memory      |   33272 KB |    3171 MB |  151500 GB |  151500 GB |\n",
      "|       from large pool |   18285 KB |    3152 MB |  151011 GB |  151011 GB |\n",
      "|       from small pool |   14987 KB |      21 MB |     488 GB |     488 GB |\n",
      "|---------------------------------------------------------------------------|\n",
      "| Active memory         |   33272 KB |    3171 MB |  151500 GB |  151500 GB |\n",
      "|       from large pool |   18285 KB |    3152 MB |  151011 GB |  151011 GB |\n",
      "|       from small pool |   14987 KB |      21 MB |     488 GB |     488 GB |\n",
      "|---------------------------------------------------------------------------|\n",
      "| GPU reserved memory   |   63488 KB |    3270 MB |    3270 MB |    3208 MB |\n",
      "|       from large pool |   40960 KB |    3242 MB |    3242 MB |    3202 MB |\n",
      "|       from small pool |   22528 KB |      28 MB |      28 MB |       6 MB |\n",
      "|---------------------------------------------------------------------------|\n",
      "| Non-releasable memory |   30216 KB |  481618 KB |   43620 GB |   43620 GB |\n",
      "|       from large pool |   22675 KB |  475766 KB |   43113 GB |   43113 GB |\n",
      "|       from small pool |    7541 KB |    7777 KB |     507 GB |     507 GB |\n",
      "|---------------------------------------------------------------------------|\n",
      "| Allocations           |      72    |     112    |    3688 K  |    3688 K  |\n",
      "|       from large pool |      10    |      36    |    1743 K  |    1743 K  |\n",
      "|       from small pool |      62    |      84    |    1944 K  |    1944 K  |\n",
      "|---------------------------------------------------------------------------|\n",
      "| Active allocs         |      72    |     112    |    3688 K  |    3688 K  |\n",
      "|       from large pool |      10    |      36    |    1743 K  |    1743 K  |\n",
      "|       from small pool |      62    |      84    |    1944 K  |    1944 K  |\n",
      "|---------------------------------------------------------------------------|\n",
      "| GPU reserved segments |      13    |      24    |      24    |      11    |\n",
      "|       from large pool |       2    |      10    |      10    |       8    |\n",
      "|       from small pool |      11    |      14    |      14    |       3    |\n",
      "|---------------------------------------------------------------------------|\n",
      "| Non-releasable allocs |      16    |      28    |    1384 K  |    1384 K  |\n",
      "|       from large pool |       4    |      11    |     710 K  |     710 K  |\n",
      "|       from small pool |      12    |      20    |     674 K  |     674 K  |\n",
      "|---------------------------------------------------------------------------|\n",
      "| Oversize allocations  |       0    |       0    |       0    |       0    |\n",
      "|---------------------------------------------------------------------------|\n",
      "| Oversize GPU segments |       0    |       0    |       0    |       0    |\n",
      "|===========================================================================|\n",
      "\n"
     ]
    }
   ],
   "source": [
    "gc.collect()\n",
    "torch.cuda.empty_cache()\n",
    "\n",
    "print(torch.cuda.memory_summary(device=None, abbreviated=False))\n",
    "\n",
    "os.environ['CUDA_LAUNCH_BLOCKING'] = \"1\"\n",
    "os.environ[\"CUDA_VISIBLE_DEVICES\"] = \"0\""
   ]
  },
  {
   "cell_type": "code",
   "execution_count": 26,
   "metadata": {},
   "outputs": [
    {
     "name": "stdout",
     "output_type": "stream",
     "text": [
      "Getting data for \"boringssl_total\" from \"c-ares_total\"\n",
      "Getting data for \"boringssl_total\" from \"freetype2_total\"\n",
      "Getting data for \"boringssl_total\" from \"guetzli_total\"\n",
      "Getting data for \"boringssl_total\" from \"harfbuzz_total\"\n",
      "Getting data for \"boringssl_total\" from \"libpng_total\"\n",
      "Getting data for \"boringssl_total\" from \"libssh_total\"\n",
      "Getting data for \"boringssl_total\" from \"libxml2_total\"\n",
      "Getting data for \"boringssl_total\" from \"pcre_total\"\n",
      "Getting data for \"boringssl_total\" from \"proj4_total\"\n",
      "Getting data for \"boringssl_total\" from \"re2_total\"\n",
      "Getting data for \"boringssl_total\" from \"sqlite3_total\"\n",
      "Getting data for \"boringssl_total\" from \"vorbis_total\"\n",
      "Getting data for \"boringssl_total\" from \"woff2_total\"\n",
      "Getting data for \"boringssl_total\" from \"wpantund_total\"\n"
     ]
    }
   ],
   "source": [
    "prefix_np, postfix_np, label_np = data.getSingleProjectData(proj_list, proj_list[target_project])"
   ]
  },
  {
   "cell_type": "code",
   "execution_count": 27,
   "metadata": {},
   "outputs": [],
   "source": [
    "test_prefix, test_postfix, test_label = data.getTestData(proj_list[target_project])"
   ]
  },
  {
   "cell_type": "code",
   "execution_count": 28,
   "metadata": {},
   "outputs": [],
   "source": [
    "train_prefix, val_prefix, train_postfix, val_postfix, train_label, val_label = train_test_split(\n",
    "    prefix_np, postfix_np, label_np, test_size = 0.2, random_state = 43\n",
    ")\n",
    "\n",
    "# train_prefix, val_prefix, train_postfix, val_postfix, train_label, val_label = train_test_split(\n",
    "#     train_prefix, train_postfix, train_label, test_size = 0.2, random_state = 43\n",
    "# )"
   ]
  },
  {
   "cell_type": "code",
   "execution_count": 29,
   "metadata": {},
   "outputs": [],
   "source": [
    "train_dataloader, val_dataloader, test_dataloader =\\\n",
    "    dl.data_loader(\n",
    "        train_prefix, train_postfix,\n",
    "        val_prefix, val_postfix,\n",
    "        test_prefix, test_postfix,\n",
    "        train_label, val_label, test_label,\n",
    "        batch_size=1000\n",
    "    )"
   ]
  },
  {
   "cell_type": "code",
   "execution_count": 30,
   "metadata": {},
   "outputs": [],
   "source": [
    "# PyTorch TensorBoard support\n",
    "timestamp = datetime.now().strftime('%Y%m%d_%H%M%S')\n",
    "writer = SummaryWriter('../tensorboard/real_OVF_9/tests')"
   ]
  },
  {
   "cell_type": "code",
   "execution_count": 31,
   "metadata": {},
   "outputs": [
    {
     "name": "stdout",
     "output_type": "stream",
     "text": [
      "There are 1 GPU(s) available.\n",
      "Device name: NVIDIA GeForce RTX 3070\n"
     ]
    }
   ],
   "source": [
    "if torch.cuda.is_available():\n",
    "    device = torch.device(\"cuda\")\n",
    "    print(f'There are {torch.cuda.device_count()} GPU(s) available.')\n",
    "    print('Device name:', torch.cuda.get_device_name(0))\n",
    "\n",
    "else:\n",
    "    print('No GPU available, using the CPU instead.')\n",
    "    device = torch.device(\"cpu\")"
   ]
  },
  {
   "cell_type": "code",
   "execution_count": 32,
   "metadata": {},
   "outputs": [],
   "source": [
    "# ====================\n",
    "# set parameters here\n",
    "# ====================\n",
    "\n",
    "title = proj_list[target_project] + '9_real_OVF_8'\n",
    "epochs = 40\n",
    "\n",
    "embed_dim = 128\n",
    "max_len, source_code_tokens, token_choices = data.getInfo()\n",
    "pretrained_token2vec = pm.load_pretrained_model(source_code_tokens, embed_dim)\n",
    "pretrained_token2vec = torch.tensor(pretrained_token2vec)\n",
    "\n",
    "\n",
    "input_size = max_len\n",
    "hidden_size = 200\n",
    "num_classes = max(token_choices) + 1\n",
    "rnn_layers = 2\n",
    "\n",
    "num_filters = [100, 200, 100]\n",
    "kernel_sizes = [15, 21, 114]\n",
    "\n",
    "dropout = 0.2\n",
    "\n",
    "learning_rate = 0.001\n",
    "# weight_decay = 1e-4\n",
    "weight_decay = 0\n",
    "\n",
    "model_name = \"RNN\"\n",
    "optim_name = \"Adam\"\n",
    "loss_fn_name = \"CEL\"\n",
    "\n",
    "pretrained_model = pretrained_token2vec\n",
    "freeze_embedding = False,"
   ]
  },
  {
   "cell_type": "code",
   "execution_count": 33,
   "metadata": {},
   "outputs": [
    {
     "name": "stdout",
     "output_type": "stream",
     "text": [
      "doing with pretrained model!!!\n",
      "C_rnn(\n",
      "  (emb): Embedding(213, 128)\n",
      "  (lstm1): RNN(\n",
      "    (rnn): LSTM(128, 200, num_layers=2, batch_first=True, bidirectional=True)\n",
      "  )\n",
      "  (lstm2): RNN(\n",
      "    (rnn): LSTM(128, 200, num_layers=2, batch_first=True, bidirectional=True)\n",
      "  )\n",
      "  (fc1): Linear(in_features=800, out_features=1000, bias=True)\n",
      "  (fc2): Linear(in_features=1000, out_features=213, bias=True)\n",
      "  (dp1): Dropout(p=0.0, inplace=False)\n",
      "  (dp2): Dropout(p=0.0, inplace=False)\n",
      ")\n"
     ]
    }
   ],
   "source": [
    "trainer.set_seed(42)\n",
    "\n",
    "model, optimizer, loss_fn = init.initialize_model(\n",
    "    vocab_size=input_size,\n",
    "    embed_dim=embed_dim,\n",
    "    hidden_size=hidden_size,\n",
    "    num_classes=num_classes,\n",
    "    rnn_layers=rnn_layers,\n",
    "    num_filters=num_filters,\n",
    "    kernel_sizes=kernel_sizes,\n",
    "    dropout=dropout,\n",
    "    learning_rate=learning_rate,\n",
    "    weight_decay=weight_decay,\n",
    "    model_name=model_name,\n",
    "    optim_name=optim_name,\n",
    "    loss_fn_name=loss_fn_name,\n",
    "    pretrained_model=pretrained_model,\n",
    "    freeze_embedding=freeze_embedding,\n",
    "    device=device,\n",
    ")\n",
    "\n",
    "print(model)"
   ]
  },
  {
   "cell_type": "code",
   "execution_count": 34,
   "metadata": {},
   "outputs": [
    {
     "name": "stdout",
     "output_type": "stream",
     "text": [
      "Start training...\n",
      "\n",
      " Epoch  |  Train Loss  | Train Acc  | Val Loss | Val Acc | Elapsed\n",
      "--------------------------------------------------------------------------------\n",
      "   1    |   0.506723   | 84.736997  | 0.237084 | 91.85  | 503.27\n",
      "   2    |   0.204268   | 92.851030  | 0.183072 | 93.52  | 513.30\n",
      "   3    |   0.165076   | 94.085280  | 0.159514 | 94.30  | 522.99\n",
      "   4    |   0.141381   | 94.907802  | 0.143373 | 94.91  | 509.56\n",
      "   5    |   0.123777   | 95.524632  | 0.134381 | 95.28  | 517.07\n",
      "   6    |   0.110012   | 95.993474  | 0.127751 | 95.51  | 516.75\n",
      "   7    |   0.098260   | 96.414377  | 0.123562 | 95.75  | 513.31\n",
      "   8    |   0.088032   | 96.776055  | 0.123096 | 95.81  | 507.74\n",
      "   9    |   0.078231   | 97.129342  | 0.123421 | 95.89  | 502.37\n",
      "  10    |   0.070107   | 97.406869  | 0.123893 | 96.08  | 503.71\n",
      "  11    |   0.062621   | 97.688224  | 0.125557 | 96.07  | 503.76\n",
      "  12    |   0.055872   | 97.927870  | 0.128080 | 96.17  | 501.62\n",
      "  13    |   0.050022   | 98.141217  | 0.132010 | 96.20  | 499.86\n",
      "  14    |   0.045019   | 98.317026  | 0.138313 | 96.13  | 500.59\n",
      "  15    |   0.040385   | 98.488911  | 0.143451 | 96.15  | 503.63\n",
      "  16    |   0.036928   | 98.631894  | 0.144775 | 96.21  | 496.87\n",
      "  17    |   0.033893   | 98.733857  | 0.153881 | 96.16  | 500.69\n",
      "  18    |   0.031796   | 98.817959  | 0.159096 | 96.16  | 503.95\n",
      "  19    |   0.028798   | 98.929195  | 0.161875 | 96.25  | 499.25\n",
      "  20    |   0.027601   | 98.976595  | 0.167495 | 96.20  | 502.39\n",
      "  21    |   0.025690   | 99.052110  | 0.171600 | 96.18  | 501.55\n",
      "  22    |   0.024418   | 99.099755  | 0.176985 | 96.17  | 501.37\n",
      "  23    |   0.023677   | 99.127772  | 0.178726 | 96.16  | 502.28\n",
      "  24    |   0.022000   | 99.189401  | 0.180657 | 96.20  | 497.68\n",
      "  25    |   0.021299   | 99.226644  | 0.184655 | 96.24  | 502.33\n",
      "  26    |   0.020519   | 99.247350  | 0.189601 | 96.22  | 504.14\n",
      "  27    |   0.020041   | 99.272522  | 0.192963 | 96.24  | 496.76\n",
      "  28    |   0.019017   | 99.303925  | 0.195460 | 96.28  | 499.91\n",
      "  29    |   0.018909   | 99.312758  | 0.195020 | 96.29  | 503.17\n",
      "  30    |   0.018017   | 99.349853  | 0.198320 | 96.25  | 503.24\n",
      "  31    |   0.017572   | 99.363248  | 0.202994 | 96.26  | 502.38\n",
      "  32    |   0.017158   | 99.378459  | 0.206005 | 96.27  | 498.46\n",
      "  33    |   0.016641   | 99.397988  | 0.205597 | 96.28  | 499.22\n",
      "  34    |   0.016046   | 99.424730  | 0.207744 | 96.29  | 506.22\n",
      "  35    |   0.016433   | 99.408979  | 0.209686 | 96.26  | 506.92\n",
      "  36    |   0.015408   | 99.444553  | 0.215817 | 96.26  | 500.90\n",
      "  37    |   0.015752   | 99.437684  | 0.215120 | 96.30  | 502.20\n",
      "  38    |   0.015152   | 99.460942  | 0.219358 | 96.31  | 502.31\n",
      "  39    |   0.015194   | 99.462610  | 0.220045 | 96.26  | 504.13\n",
      "  40    |   0.014728   | 99.478754  | 0.222558 | 96.26  | 499.40\n",
      "\n",
      "\n",
      "Training complete! Best accuracy: 96.31%.\n"
     ]
    }
   ],
   "source": [
    "start_time = timeit.default_timer()\n",
    "\n",
    "trainer.train(\n",
    "    epochs=epochs,\n",
    "    title=title,\n",
    "    writer=writer,\n",
    "    train_dataloader=train_dataloader,\n",
    "    val_dataloader=val_dataloader,\n",
    "    device=device,\n",
    "    model=model,\n",
    "    optimizer=optimizer,\n",
    "    loss_fn=loss_fn\n",
    ")\n",
    "\n",
    "end_time = (timeit.default_timer() - start_time) / 60.0"
   ]
  },
  {
   "cell_type": "code",
   "execution_count": 35,
   "metadata": {},
   "outputs": [],
   "source": [
    "mu.saveModel(title, model)"
   ]
  },
  {
   "cell_type": "code",
   "execution_count": 36,
   "metadata": {},
   "outputs": [
    {
     "name": "stdout",
     "output_type": "stream",
     "text": [
      "C_rnn(\n",
      "  (emb): Embedding(213, 128)\n",
      "  (lstm1): RNN(\n",
      "    (rnn): LSTM(128, 200, num_layers=2, batch_first=True, bidirectional=True)\n",
      "  )\n",
      "  (lstm2): RNN(\n",
      "    (rnn): LSTM(128, 200, num_layers=2, batch_first=True, bidirectional=True)\n",
      "  )\n",
      "  (fc1): Linear(in_features=800, out_features=1000, bias=True)\n",
      "  (fc2): Linear(in_features=1000, out_features=213, bias=True)\n",
      "  (dp1): Dropout(p=0.0, inplace=False)\n",
      "  (dp2): Dropout(p=0.0, inplace=False)\n",
      ")\n"
     ]
    }
   ],
   "source": [
    "model = mu.getModel(title)\n",
    "print(model)"
   ]
  },
  {
   "cell_type": "code",
   "execution_count": 37,
   "metadata": {},
   "outputs": [
    {
     "name": "stdout",
     "output_type": "stream",
     "text": [
      "test loss:  5.2233346480203755\n",
      "test acc:  77.2922480620155\n"
     ]
    },
    {
     "name": "stderr",
     "output_type": "stream",
     "text": [
      "/home/arise/anaconda3/lib/python3.9/site-packages/sklearn/metrics/_classification.py:1334: UndefinedMetricWarning: Precision and F-score are ill-defined and being set to 0.0 in labels with no predicted samples. Use `zero_division` parameter to control this behavior.\n",
      "  _warn_prf(average, modifier, msg_start, len(result))\n",
      "/home/arise/anaconda3/lib/python3.9/site-packages/sklearn/metrics/_classification.py:1334: UndefinedMetricWarning: Recall and F-score are ill-defined and being set to 0.0 in labels with no true samples. Use `zero_division` parameter to control this behavior.\n",
      "  _warn_prf(average, modifier, msg_start, len(result))\n",
      "/home/arise/anaconda3/lib/python3.9/site-packages/sklearn/metrics/_classification.py:1334: UndefinedMetricWarning: Precision and F-score are ill-defined and being set to 0.0 in labels with no predicted samples. Use `zero_division` parameter to control this behavior.\n",
      "  _warn_prf(average, modifier, msg_start, len(result))\n",
      "/home/arise/anaconda3/lib/python3.9/site-packages/sklearn/metrics/_classification.py:1334: UndefinedMetricWarning: Recall and F-score are ill-defined and being set to 0.0 in labels with no true samples. Use `zero_division` parameter to control this behavior.\n",
      "  _warn_prf(average, modifier, msg_start, len(result))\n"
     ]
    },
    {
     "name": "stdout",
     "output_type": "stream",
     "text": [
      "saved precision and recall results to file!\n"
     ]
    },
    {
     "name": "stderr",
     "output_type": "stream",
     "text": [
      "/home/arise/anaconda3/lib/python3.9/site-packages/sklearn/metrics/_classification.py:1334: UndefinedMetricWarning: Precision and F-score are ill-defined and being set to 0.0 in labels with no predicted samples. Use `zero_division` parameter to control this behavior.\n",
      "  _warn_prf(average, modifier, msg_start, len(result))\n",
      "/home/arise/anaconda3/lib/python3.9/site-packages/sklearn/metrics/_classification.py:1334: UndefinedMetricWarning: Recall and F-score are ill-defined and being set to 0.0 in labels with no true samples. Use `zero_division` parameter to control this behavior.\n",
      "  _warn_prf(average, modifier, msg_start, len(result))\n"
     ]
    }
   ],
   "source": [
    "loss, acc = tester.test(test_dataloader=test_dataloader,\n",
    "                        device=device,\n",
    "                        model=model,\n",
    "                        title=title)"
   ]
  },
  {
   "cell_type": "code",
   "execution_count": 38,
   "metadata": {},
   "outputs": [],
   "source": [
    "with open('../result/real_OVF_9', 'a') as f:\n",
    "        text = title + '\\t |\\tloss: ' + str(loss) + '\\t |\\tacc: ' + str(acc) + '\\t |\\t time: ' + str(round(end_time, 3)) + ' min\\n'\n",
    "        f.write(text)"
   ]
  },
  {
   "cell_type": "code",
   "execution_count": 39,
   "metadata": {},
   "outputs": [
    {
     "name": "stdout",
     "output_type": "stream",
     "text": [
      "uploaded model graph to tensorboard!\n"
     ]
    }
   ],
   "source": [
    "mu.graphModel(train_dataloader, model, writer)"
   ]
  },
  {
   "cell_type": "code",
   "execution_count": 40,
   "metadata": {},
   "outputs": [],
   "source": [
    "# prefix =[0, 0, 0, 0, 0, 0, 0, 0, 0, 0, 0, 0, 0, 0, 0, 0, 0, 0, 0, 0, 0, 0, 0, 0, 0, 0, 0, 0, 0, 0, 0, 0, 0, 0, 0, 0, 0, 0, 0, 0, 0, 0, 0, 0, 0, 0, 0, 0, 0, 0, 0, 0, 0, 0, 0, 0, 0, 0, 0, 0, 0, 0, 0, 0]\n",
    "# postfix = [2, 91, 2, 56, 2, 106, 47, 2, 134, 128, 50, 88, 48, 47, 2, 49, 48, 2, 56, 2, 91, 2, 119, 91, 2, 56, 2, 106, 47, 2, 119, 128, 50, 88, 48, 47, 2, 49, 48, 2, 56, 2, 91, 2, 119, 91, 2, 56, 2, 106, 47, 2, 119, 128, 50, 88, 33, 124, 49, 48, 134, 47, 2, 119]\n",
    "# label_type = 128"
   ]
  },
  {
   "cell_type": "code",
   "execution_count": 41,
   "metadata": {},
   "outputs": [],
   "source": [
    "# prefix =[0, 0, 0, 0, 0, 0, 0, 0, 0, 128, 119, 2, 47, 134, 48, 49, 124, 33, 88, 50, 128, 119, 2, 47, 106, 2, 56, 2, 91, 119, 2, 91, 2, 56, 2, 48, 49, 2, 47, 48, 88, 50, 128, 119, 2, 47, 106, 2, 56, 2, 91, 119, 2, 91, 2, 56, 2, 48, 49, 2, 47, 48, 88, 50]\n",
    "# postfix = [48, 2, 56, 2, 106, 91, 2, 56, 2, 91, 2, 56, 2, 106, 47, 2, 134, 50, 88, 48, 47, 2, 49, 48, 2, 56, 2, 106, 91, 2, 56, 2, 91, 2, 56, 2, 106, 47, 2, 134, 128, 50, 88, 48, 47, 2, 49, 48, 2, 56, 2, 106, 91, 2, 56, 2, 91, 2, 56, 2, 106, 47, 2, 134]\n",
    "# label_type = 128"
   ]
  },
  {
   "cell_type": "code",
   "execution_count": 42,
   "metadata": {},
   "outputs": [],
   "source": [
    "# predictor.predict(prefix, postfix, model)"
   ]
  },
  {
   "cell_type": "code",
   "execution_count": null,
   "metadata": {},
   "outputs": [],
   "source": []
  }
 ],
 "metadata": {
  "kernelspec": {
   "display_name": "Python 3.9.12 ('base')",
   "language": "python",
   "name": "python3"
  },
  "language_info": {
   "codemirror_mode": {
    "name": "ipython",
    "version": 3
   },
   "file_extension": ".py",
   "mimetype": "text/x-python",
   "name": "python",
   "nbconvert_exporter": "python",
   "pygments_lexer": "ipython3",
   "version": "3.9.12"
  },
  "orig_nbformat": 4,
  "vscode": {
   "interpreter": {
    "hash": "348b9cd948ce87438be2e622031b2ecfa29bc2d3ecc0fd03127b9a24b30227df"
   }
  }
 },
 "nbformat": 4,
 "nbformat_minor": 2
}
