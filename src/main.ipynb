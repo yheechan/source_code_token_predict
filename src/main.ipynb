{
 "cells": [
  {
   "cell_type": "code",
   "execution_count": 1,
   "metadata": {},
   "outputs": [],
   "source": [
    "proj_list = [\n",
    "    'boringssl_total', 'c-ares_total',\n",
    "    'freetype2_total', 'guetzli_total',\n",
    "    'harfbuzz_total', 'libpng_total',\n",
    "    'libssh_total', 'libxml2_total',\n",
    "    'pcre_total', 'proj4_total',\n",
    "    're2_total', 'sqlite3_total',\n",
    "    'total', 'vorbis_total',\n",
    "    'woff2_total', 'wpantund_total'\n",
    "]"
   ]
  },
  {
   "cell_type": "code",
   "execution_count": 2,
   "metadata": {},
   "outputs": [],
   "source": [
    "from sklearn.model_selection import train_test_split\n",
    "import torch\n",
    "\n",
    "from torch.utils.tensorboard import SummaryWriter\n",
    "from datetime import datetime\n",
    "\n",
    "import data\n",
    "import data_loader as dl"
   ]
  },
  {
   "cell_type": "code",
   "execution_count": 3,
   "metadata": {},
   "outputs": [],
   "source": [
    "max_len, source_code_tokens, token_choices = data.getInfo()"
   ]
  },
  {
   "cell_type": "code",
   "execution_count": 4,
   "metadata": {},
   "outputs": [
    {
     "name": "stdout",
     "output_type": "stream",
     "text": [
      "Getting data for \"boringssl_total\" from \"c-ares_total\"\n",
      "Getting data for \"boringssl_total\" from \"freetype2_total\"\n",
      "Getting data for \"boringssl_total\" from \"guetzli_total\"\n",
      "Getting data for \"boringssl_total\" from \"harfbuzz_total\"\n",
      "Getting data for \"boringssl_total\" from \"libpng_total\"\n",
      "Getting data for \"boringssl_total\" from \"libssh_total\"\n",
      "Getting data for \"boringssl_total\" from \"libxml2_total\"\n",
      "Getting data for \"boringssl_total\" from \"pcre_total\"\n",
      "Getting data for \"boringssl_total\" from \"proj4_total\"\n",
      "Getting data for \"boringssl_total\" from \"re2_total\"\n",
      "Getting data for \"boringssl_total\" from \"sqlite3_total\"\n",
      "Getting data for \"boringssl_total\" from \"vorbis_total\"\n",
      "Getting data for \"boringssl_total\" from \"woff2_total\"\n",
      "Getting data for \"boringssl_total\" from \"wpantund_total\"\n"
     ]
    }
   ],
   "source": [
    "prefix_np, postfix_np, label_np = data.getSingleProjectData(proj_list, proj_list[0])"
   ]
  },
  {
   "cell_type": "code",
   "execution_count": 5,
   "metadata": {},
   "outputs": [],
   "source": [
    "train_prefix, test_prefix, train_postfix, test_postfix, train_label, test_label = train_test_split(\n",
    "    prefix_np, postfix_np, label_np, test_size = 0.1, random_state = 43\n",
    ")\n",
    "\n",
    "train_prefix, val_prefix, train_postfix, val_postfix, train_label, val_label = train_test_split(\n",
    "    train_prefix, train_postfix, train_label, test_size = 0.1, random_state = 43\n",
    ")"
   ]
  },
  {
   "cell_type": "code",
   "execution_count": 6,
   "metadata": {},
   "outputs": [],
   "source": [
    "train_dataloader, val_dataloader, test_dataloader =\\\n",
    "    dl.data_loader(\n",
    "        train_prefix, train_postfix,\n",
    "        val_prefix, val_postfix,\n",
    "        test_prefix, test_postfix,\n",
    "        train_label, val_label, test_label\n",
    "    )"
   ]
  },
  {
   "cell_type": "code",
   "execution_count": 7,
   "metadata": {},
   "outputs": [],
   "source": [
    "# PyTorch TensorBoard support\n",
    "timestamp = datetime.now().strftime('%Y%m%d_%H%M%S')\n",
    "writer = SummaryWriter('../tensorboard/dev/tests')"
   ]
  },
  {
   "cell_type": "code",
   "execution_count": 8,
   "metadata": {},
   "outputs": [
    {
     "name": "stdout",
     "output_type": "stream",
     "text": [
      "There are 1 GPU(s) available.\n",
      "Device name: NVIDIA GeForce RTX 3070\n"
     ]
    }
   ],
   "source": [
    "if torch.cuda.is_available():       \n",
    "    device = torch.device(\"cuda\")\n",
    "    print(f'There are {torch.cuda.device_count()} GPU(s) available.')\n",
    "    print('Device name:', torch.cuda.get_device_name(0))\n",
    "\n",
    "else:\n",
    "    print('No GPU available, using the CPU instead.')\n",
    "    device = torch.device(\"cpu\")"
   ]
  },
  {
   "cell_type": "code",
   "execution_count": 9,
   "metadata": {},
   "outputs": [],
   "source": [
    "# ====================\n",
    "# set parameters here\n",
    "# ====================\n",
    "\n",
    "title = 'dev-test1'\n",
    "epochs = 20\n",
    "\n",
    "input_size = max_len\n",
    "embed_dim = 200\n",
    "hidden_size = 100\n",
    "num_classes = len(token_choices)\n",
    "rnn_layers = 1\n",
    "\n",
    "num_filters = [100, 200, 100]\n",
    "kernel_sizes = [15, 21, 114]\n",
    "\n",
    "dropout = 0.0\n",
    "\n",
    "learning_rate = 0.001\n",
    "weight_decay = 1e-4\n",
    "\n",
    "model_name = \"RNN\"\n",
    "optim_name = \"Adam\"\n",
    "loss_fn_name = \"CEL\"\n",
    "\n",
    "pretrained_model = None\n",
    "freeze_embedding = False,"
   ]
  }
 ],
 "metadata": {
  "kernelspec": {
   "display_name": "Python 3.9.12 ('base')",
   "language": "python",
   "name": "python3"
  },
  "language_info": {
   "codemirror_mode": {
    "name": "ipython",
    "version": 3
   },
   "file_extension": ".py",
   "mimetype": "text/x-python",
   "name": "python",
   "nbconvert_exporter": "python",
   "pygments_lexer": "ipython3",
   "version": "3.9.12"
  },
  "orig_nbformat": 4,
  "vscode": {
   "interpreter": {
    "hash": "348b9cd948ce87438be2e622031b2ecfa29bc2d3ecc0fd03127b9a24b30227df"
   }
  }
 },
 "nbformat": 4,
 "nbformat_minor": 2
}
