{
 "cells": [
  {
   "cell_type": "code",
   "execution_count": 1,
   "metadata": {},
   "outputs": [],
   "source": [
    "proj_list = [\n",
    "    'boringssl_total', 'c-ares_total',\n",
    "    'freetype2_total', 'guetzli_total',\n",
    "    'harfbuzz_total', 'libpng_total',\n",
    "    'libssh_total', 'libxml2_total',\n",
    "    'pcre_total', 'proj4_total',\n",
    "    're2_total', 'sqlite3_total',\n",
    "    'total', 'vorbis_total',\n",
    "    'woff2_total', 'wpantund_total'\n",
    "]"
   ]
  },
  {
   "cell_type": "code",
   "execution_count": 2,
   "metadata": {},
   "outputs": [],
   "source": [
    "target_project =13 "
   ]
  },
  {
   "cell_type": "code",
   "execution_count": 3,
   "metadata": {},
   "outputs": [],
   "source": [
    "from sklearn.model_selection import train_test_split\n",
    "import torch\n",
    "import torch, gc\n",
    "\n",
    "from torch.utils.tensorboard import SummaryWriter\n",
    "from datetime import datetime\n",
    "\n",
    "import timeit\n",
    "\n",
    "import data\n",
    "import data_loader as dl\n",
    "import initializer as init\n",
    "import trainer\n",
    "import tester\n",
    "import predictor\n",
    "import model_util as mu\n",
    "import pretrained_model as pm\n",
    "\n",
    "import os"
   ]
  },
  {
   "cell_type": "code",
   "execution_count": 4,
   "metadata": {},
   "outputs": [
    {
     "name": "stdout",
     "output_type": "stream",
     "text": [
      "|===========================================================================|\n",
      "|                  PyTorch CUDA memory summary, device ID 0                 |\n",
      "|---------------------------------------------------------------------------|\n",
      "|            CUDA OOMs: 0            |        cudaMalloc retries: 0         |\n",
      "|===========================================================================|\n",
      "|        Metric         | Cur Usage  | Peak Usage | Tot Alloc  | Tot Freed  |\n",
      "|---------------------------------------------------------------------------|\n",
      "| Allocated memory      |       0 B  |       0 B  |       0 B  |       0 B  |\n",
      "|       from large pool |       0 B  |       0 B  |       0 B  |       0 B  |\n",
      "|       from small pool |       0 B  |       0 B  |       0 B  |       0 B  |\n",
      "|---------------------------------------------------------------------------|\n",
      "| Active memory         |       0 B  |       0 B  |       0 B  |       0 B  |\n",
      "|       from large pool |       0 B  |       0 B  |       0 B  |       0 B  |\n",
      "|       from small pool |       0 B  |       0 B  |       0 B  |       0 B  |\n",
      "|---------------------------------------------------------------------------|\n",
      "| GPU reserved memory   |       0 B  |       0 B  |       0 B  |       0 B  |\n",
      "|       from large pool |       0 B  |       0 B  |       0 B  |       0 B  |\n",
      "|       from small pool |       0 B  |       0 B  |       0 B  |       0 B  |\n",
      "|---------------------------------------------------------------------------|\n",
      "| Non-releasable memory |       0 B  |       0 B  |       0 B  |       0 B  |\n",
      "|       from large pool |       0 B  |       0 B  |       0 B  |       0 B  |\n",
      "|       from small pool |       0 B  |       0 B  |       0 B  |       0 B  |\n",
      "|---------------------------------------------------------------------------|\n",
      "| Allocations           |       0    |       0    |       0    |       0    |\n",
      "|       from large pool |       0    |       0    |       0    |       0    |\n",
      "|       from small pool |       0    |       0    |       0    |       0    |\n",
      "|---------------------------------------------------------------------------|\n",
      "| Active allocs         |       0    |       0    |       0    |       0    |\n",
      "|       from large pool |       0    |       0    |       0    |       0    |\n",
      "|       from small pool |       0    |       0    |       0    |       0    |\n",
      "|---------------------------------------------------------------------------|\n",
      "| GPU reserved segments |       0    |       0    |       0    |       0    |\n",
      "|       from large pool |       0    |       0    |       0    |       0    |\n",
      "|       from small pool |       0    |       0    |       0    |       0    |\n",
      "|---------------------------------------------------------------------------|\n",
      "| Non-releasable allocs |       0    |       0    |       0    |       0    |\n",
      "|       from large pool |       0    |       0    |       0    |       0    |\n",
      "|       from small pool |       0    |       0    |       0    |       0    |\n",
      "|---------------------------------------------------------------------------|\n",
      "| Oversize allocations  |       0    |       0    |       0    |       0    |\n",
      "|---------------------------------------------------------------------------|\n",
      "| Oversize GPU segments |       0    |       0    |       0    |       0    |\n",
      "|===========================================================================|\n",
      "\n"
     ]
    }
   ],
   "source": [
    "gc.collect()\n",
    "torch.cuda.empty_cache()\n",
    "\n",
    "print(torch.cuda.memory_summary(device=None, abbreviated=False))\n",
    "\n",
    "os.environ['CUDA_LAUNCH_BLOCKING'] = \"1\"\n",
    "os.environ[\"CUDA_VISIBLE_DEVICES\"] = \"0\""
   ]
  },
  {
   "cell_type": "code",
   "execution_count": 5,
   "metadata": {},
   "outputs": [
    {
     "name": "stdout",
     "output_type": "stream",
     "text": [
      "Getting data for \"vorbis_total\" from \"boringssl_total\"\n",
      "Getting data for \"vorbis_total\" from \"c-ares_total\"\n",
      "Getting data for \"vorbis_total\" from \"freetype2_total\"\n",
      "Getting data for \"vorbis_total\" from \"guetzli_total\"\n",
      "Getting data for \"vorbis_total\" from \"harfbuzz_total\"\n",
      "Getting data for \"vorbis_total\" from \"libpng_total\"\n",
      "Getting data for \"vorbis_total\" from \"libssh_total\"\n",
      "Getting data for \"vorbis_total\" from \"libxml2_total\"\n",
      "Getting data for \"vorbis_total\" from \"pcre_total\"\n",
      "Getting data for \"vorbis_total\" from \"proj4_total\"\n",
      "Getting data for \"vorbis_total\" from \"re2_total\"\n",
      "Getting data for \"vorbis_total\" from \"sqlite3_total\"\n",
      "Getting data for \"vorbis_total\" from \"woff2_total\"\n",
      "Getting data for \"vorbis_total\" from \"wpantund_total\"\n"
     ]
    }
   ],
   "source": [
    "prefix_np, postfix_np, label_np = data.getSingleProjectData(proj_list, proj_list[target_project])"
   ]
  },
  {
   "cell_type": "code",
   "execution_count": 6,
   "metadata": {},
   "outputs": [],
   "source": [
    "test_prefix, test_postfix, test_label = data.getTestData(proj_list[target_project])"
   ]
  },
  {
   "cell_type": "code",
   "execution_count": 7,
   "metadata": {},
   "outputs": [],
   "source": [
    "train_prefix, val_prefix, train_postfix, val_postfix, train_label, val_label = train_test_split(\n",
    "    prefix_np, postfix_np, label_np, test_size = 0.2, random_state = 43\n",
    ")\n",
    "\n",
    "# train_prefix, val_prefix, train_postfix, val_postfix, train_label, val_label = train_test_split(\n",
    "#     train_prefix, train_postfix, train_label, test_size = 0.2, random_state = 43\n",
    "# )"
   ]
  },
  {
   "cell_type": "code",
   "execution_count": 8,
   "metadata": {},
   "outputs": [],
   "source": [
    "train_dataloader, val_dataloader, test_dataloader =\\\n",
    "    dl.data_loader(\n",
    "        train_prefix, train_postfix,\n",
    "        val_prefix, val_postfix,\n",
    "        test_prefix, test_postfix,\n",
    "        train_label, val_label, test_label,\n",
    "        batch_size=1000\n",
    "    )"
   ]
  },
  {
   "cell_type": "code",
   "execution_count": 9,
   "metadata": {},
   "outputs": [],
   "source": [
    "# PyTorch TensorBoard support\n",
    "timestamp = datetime.now().strftime('%Y%m%d_%H%M%S')\n",
    "writer = SummaryWriter('../tensorboard/phase2/tests')"
   ]
  },
  {
   "cell_type": "code",
   "execution_count": 10,
   "metadata": {},
   "outputs": [
    {
     "name": "stdout",
     "output_type": "stream",
     "text": [
      "There are 1 GPU(s) available.\n",
      "Device name: NVIDIA GeForce RTX 3070\n"
     ]
    }
   ],
   "source": [
    "if torch.cuda.is_available():\n",
    "    device = torch.device(\"cuda\")\n",
    "    print(f'There are {torch.cuda.device_count()} GPU(s) available.')\n",
    "    print('Device name:', torch.cuda.get_device_name(0))\n",
    "\n",
    "else:\n",
    "    print('No GPU available, using the CPU instead.')\n",
    "    device = torch.device(\"cpu\")"
   ]
  },
  {
   "cell_type": "code",
   "execution_count": 11,
   "metadata": {},
   "outputs": [],
   "source": [
    "# ====================\n",
    "# set parameters here\n",
    "# ====================\n",
    "\n",
    "title = proj_list[target_project] + '_phase2_' + str(target_project)\n",
    "epochs = 40\n",
    "\n",
    "embed_dim = 128\n",
    "max_len, source_code_tokens, token_choices = data.getInfo()\n",
    "pretrained_token2vec = pm.load_pretrained_model(source_code_tokens, embed_dim)\n",
    "pretrained_token2vec = torch.tensor(pretrained_token2vec)\n",
    "\n",
    "\n",
    "input_size = max_len\n",
    "hidden_size = 200\n",
    "num_classes = max(token_choices) + 1\n",
    "rnn_layers = 2\n",
    "\n",
    "num_filters = [100, 200, 100]\n",
    "kernel_sizes = [15, 21, 114]\n",
    "\n",
    "dropout = 0.3\n",
    "\n",
    "learning_rate = 0.001\n",
    "# weight_decay = 1e-4\n",
    "weight_decay = 0\n",
    "\n",
    "model_name = \"RNN\"\n",
    "optim_name = \"Adam\"\n",
    "loss_fn_name = \"CEL\"\n",
    "\n",
    "pretrained_model = pretrained_token2vec\n",
    "freeze_embedding = False,"
   ]
  },
  {
   "cell_type": "code",
   "execution_count": 12,
   "metadata": {},
   "outputs": [
    {
     "name": "stdout",
     "output_type": "stream",
     "text": [
      "doing with pretrained model!!!\n",
      "C_rnn(\n",
      "  (emb): Embedding(213, 128)\n",
      "  (lstm1): RNN(\n",
      "    (rnn): LSTM(128, 200, num_layers=2, batch_first=True, dropout=0.3, bidirectional=True)\n",
      "  )\n",
      "  (lstm2): RNN(\n",
      "    (rnn): LSTM(128, 200, num_layers=2, batch_first=True, dropout=0.3, bidirectional=True)\n",
      "  )\n",
      "  (fc1): Linear(in_features=800, out_features=1000, bias=True)\n",
      "  (fc2): Linear(in_features=1000, out_features=213, bias=True)\n",
      "  (dp1): Dropout(p=0.3, inplace=False)\n",
      "  (dp2): Dropout(p=0.3, inplace=False)\n",
      ")\n"
     ]
    }
   ],
   "source": [
    "trainer.set_seed(42)\n",
    "\n",
    "model, optimizer, loss_fn = init.initialize_model(\n",
    "    vocab_size=input_size,\n",
    "    embed_dim=embed_dim,\n",
    "    hidden_size=hidden_size,\n",
    "    num_classes=num_classes,\n",
    "    rnn_layers=rnn_layers,\n",
    "    num_filters=num_filters,\n",
    "    kernel_sizes=kernel_sizes,\n",
    "    dropout=dropout,\n",
    "    learning_rate=learning_rate,\n",
    "    weight_decay=weight_decay,\n",
    "    model_name=model_name,\n",
    "    optim_name=optim_name,\n",
    "    loss_fn_name=loss_fn_name,\n",
    "    pretrained_model=pretrained_model,\n",
    "    freeze_embedding=freeze_embedding,\n",
    "    device=device,\n",
    ")\n",
    "\n",
    "print(model)"
   ]
  },
  {
   "cell_type": "code",
   "execution_count": 13,
   "metadata": {},
   "outputs": [
    {
     "name": "stdout",
     "output_type": "stream",
     "text": [
      "Start training...\n",
      "\n",
      " Epoch  |  Train Loss  | Train Acc  | Val Loss | Val Acc | Elapsed\n",
      "--------------------------------------------------------------------------------\n",
      "   1    |   0.476940   | 85.394171  | 0.221333 | 92.19  | 664.79\n",
      "   2    |   0.219971   | 92.392674  | 0.175960 | 93.77  | 667.92\n",
      "   3    |   0.184243   | 93.526822  | 0.154290 | 94.48  | 668.25\n",
      "   4    |   0.164582   | 94.186570  | 0.138969 | 95.02  | 668.49\n",
      "   5    |   0.150707   | 94.658960  | 0.131654 | 95.29  | 670.00\n",
      "   6    |   0.140453   | 95.014415  | 0.123799 | 95.57  | 667.21\n",
      "   7    |   0.132733   | 95.277196  | 0.119680 | 95.68  | 666.94\n",
      "   8    |   0.126093   | 95.515242  | 0.116700 | 95.82  | 669.84\n",
      "   9    |   0.120442   | 95.712131  | 0.112771 | 95.95  | 637.60\n",
      "  10    |   0.115758   | 95.858488  | 0.110565 | 96.06  | 628.71\n",
      "  11    |   0.111658   | 96.010201  | 0.108059 | 96.14  | 628.94\n",
      "  12    |   0.107898   | 96.147066  | 0.106462 | 96.24  | 628.43\n",
      "  13    |   0.104334   | 96.270540  | 0.105449 | 96.28  | 628.88\n",
      "  14    |   0.101074   | 96.379086  | 0.104377 | 96.33  | 629.04\n",
      "  15    |   0.098115   | 96.489366  | 0.102498 | 96.40  | 628.79\n",
      "  16    |   0.095617   | 96.574911  | 0.102348 | 96.46  | 628.40\n",
      "  17    |   0.093053   | 96.676211  | 0.102661 | 96.44  | 628.59\n",
      "  18    |   0.091364   | 96.718236  | 0.101316 | 96.51  | 628.58\n",
      "  19    |   0.088675   | 96.817842  | 0.100935 | 96.52  | 628.67\n",
      "  20    |   0.087147   | 96.885309  | 0.099832 | 96.57  | 628.85\n",
      "  21    |   0.084960   | 96.951359  | 0.100299 | 96.59  | 629.06\n",
      "  22    |   0.083496   | 96.999488  | 0.099952 | 96.60  | 628.94\n",
      "  23    |   0.081646   | 97.071288  | 0.100243 | 96.60  | 628.81\n",
      "  24    |   0.079978   | 97.132139  | 0.101486 | 96.59  | 628.57\n",
      "  25    |   0.078942   | 97.170579  | 0.099577 | 96.67  | 628.50\n",
      "  26    |   0.077187   | 97.234462  | 0.100102 | 96.64  | 628.61\n",
      "  27    |   0.076107   | 97.273218  | 0.101316 | 96.66  | 628.61\n",
      "  28    |   0.074787   | 97.325246  | 0.099000 | 96.70  | 628.58\n",
      "  29    |   0.073510   | 97.376920  | 0.101225 | 96.74  | 642.10\n",
      "  30    |   0.072238   | 97.414100  | 0.101858 | 96.69  | 660.40\n",
      "  31    |   0.071589   | 97.439740  | 0.099822 | 96.75  | 629.99\n",
      "  32    |   0.070144   | 97.492202  | 0.101635 | 96.74  | 627.77\n",
      "  33    |   0.069555   | 97.507247  | 0.101562 | 96.74  | 630.18\n",
      "  34    |   0.068289   | 97.559315  | 0.101885 | 96.76  | 627.51\n",
      "  35    |   0.067296   | 97.592280  | 0.101703 | 96.76  | 627.49\n",
      "  36    |   0.066338   | 97.630918  | 0.102820 | 96.78  | 628.55\n",
      "  37    |   0.065488   | 97.649547  | 0.102793 | 96.76  | 660.48\n",
      "  38    |   0.064904   | 97.676763  | 0.101829 | 96.79  | 628.34\n",
      "  39    |   0.064229   | 97.699291  | 0.104292 | 96.77  | 628.02\n",
      "  40    |   0.063436   | 97.724419  | 0.103884 | 96.82  | 634.67\n",
      "\n",
      "\n",
      "Training complete! Best accuracy: 96.82%.\n"
     ]
    }
   ],
   "source": [
    "start_time = timeit.default_timer()\n",
    "\n",
    "trainer.train(\n",
    "    epochs=epochs,\n",
    "    title=title,\n",
    "    writer=writer,\n",
    "    train_dataloader=train_dataloader,\n",
    "    val_dataloader=val_dataloader,\n",
    "    device=device,\n",
    "    model=model,\n",
    "    optimizer=optimizer,\n",
    "    loss_fn=loss_fn\n",
    ")\n",
    "\n",
    "end_time = (timeit.default_timer() - start_time) / 60.0"
   ]
  },
  {
   "cell_type": "code",
   "execution_count": 14,
   "metadata": {},
   "outputs": [],
   "source": [
    "mu.saveModel(title, model)"
   ]
  },
  {
   "cell_type": "code",
   "execution_count": 15,
   "metadata": {},
   "outputs": [
    {
     "name": "stdout",
     "output_type": "stream",
     "text": [
      "C_rnn(\n",
      "  (emb): Embedding(213, 128)\n",
      "  (lstm1): RNN(\n",
      "    (rnn): LSTM(128, 200, num_layers=2, batch_first=True, dropout=0.3, bidirectional=True)\n",
      "  )\n",
      "  (lstm2): RNN(\n",
      "    (rnn): LSTM(128, 200, num_layers=2, batch_first=True, dropout=0.3, bidirectional=True)\n",
      "  )\n",
      "  (fc1): Linear(in_features=800, out_features=1000, bias=True)\n",
      "  (fc2): Linear(in_features=1000, out_features=213, bias=True)\n",
      "  (dp1): Dropout(p=0.3, inplace=False)\n",
      "  (dp2): Dropout(p=0.3, inplace=False)\n",
      ")\n"
     ]
    }
   ],
   "source": [
    "model = mu.getModel(title)\n",
    "print(model)"
   ]
  },
  {
   "cell_type": "code",
   "execution_count": 16,
   "metadata": {},
   "outputs": [
    {
     "name": "stdout",
     "output_type": "stream",
     "text": [
      "test loss:  0.33645374855647486\n",
      "test acc:  92.07083333333334\n"
     ]
    },
    {
     "name": "stderr",
     "output_type": "stream",
     "text": [
      "/home/arise/anaconda3/lib/python3.9/site-packages/sklearn/metrics/_classification.py:1334: UndefinedMetricWarning: Precision and F-score are ill-defined and being set to 0.0 in labels with no predicted samples. Use `zero_division` parameter to control this behavior.\n",
      "  _warn_prf(average, modifier, msg_start, len(result))\n",
      "/home/arise/anaconda3/lib/python3.9/site-packages/sklearn/metrics/_classification.py:1334: UndefinedMetricWarning: Recall and F-score are ill-defined and being set to 0.0 in labels with no true samples. Use `zero_division` parameter to control this behavior.\n",
      "  _warn_prf(average, modifier, msg_start, len(result))\n",
      "/home/arise/anaconda3/lib/python3.9/site-packages/sklearn/metrics/_classification.py:1334: UndefinedMetricWarning: Precision and F-score are ill-defined and being set to 0.0 in labels with no predicted samples. Use `zero_division` parameter to control this behavior.\n",
      "  _warn_prf(average, modifier, msg_start, len(result))\n",
      "/home/arise/anaconda3/lib/python3.9/site-packages/sklearn/metrics/_classification.py:1334: UndefinedMetricWarning: Recall and F-score are ill-defined and being set to 0.0 in labels with no true samples. Use `zero_division` parameter to control this behavior.\n",
      "  _warn_prf(average, modifier, msg_start, len(result))\n",
      "/home/arise/anaconda3/lib/python3.9/site-packages/sklearn/metrics/_classification.py:1334: UndefinedMetricWarning: Precision and F-score are ill-defined and being set to 0.0 in labels with no predicted samples. Use `zero_division` parameter to control this behavior.\n",
      "  _warn_prf(average, modifier, msg_start, len(result))\n",
      "/home/arise/anaconda3/lib/python3.9/site-packages/sklearn/metrics/_classification.py:1334: UndefinedMetricWarning: Recall and F-score are ill-defined and being set to 0.0 in labels with no true samples. Use `zero_division` parameter to control this behavior.\n",
      "  _warn_prf(average, modifier, msg_start, len(result))\n"
     ]
    },
    {
     "name": "stdout",
     "output_type": "stream",
     "text": [
      "saved precision and recall results to file!\n"
     ]
    }
   ],
   "source": [
    "loss, acc = tester.test(test_dataloader=test_dataloader,\n",
    "                        device=device,\n",
    "                        model=model,\n",
    "                        title=title)"
   ]
  },
  {
   "cell_type": "code",
   "execution_count": 17,
   "metadata": {},
   "outputs": [],
   "source": [
    "with open('../result/phase2', 'a') as f:\n",
    "        text = title + '\\t |\\tloss: ' + str(loss) + '\\t |\\tacc: ' + str(acc) + '\\t |\\t time: ' + str(round(end_time, 3)) + ' min\\n'\n",
    "        f.write(text)"
   ]
  },
  {
   "cell_type": "code",
   "execution_count": 18,
   "metadata": {},
   "outputs": [
    {
     "name": "stdout",
     "output_type": "stream",
     "text": [
      "uploaded model graph to tensorboard!\n"
     ]
    }
   ],
   "source": [
    "mu.graphModel(train_dataloader, model, writer)"
   ]
  },
  {
   "cell_type": "code",
   "execution_count": 19,
   "metadata": {},
   "outputs": [],
   "source": [
    "# prefix =[0, 0, 0, 0, 0, 0, 0, 0, 0, 0, 0, 0, 0, 0, 0, 0, 0, 0, 0, 0, 0, 0, 0, 0, 0, 0, 0, 0, 0, 0, 0, 0, 0, 0, 0, 0, 0, 0, 0, 0, 0, 0, 0, 0, 0, 0, 0, 0, 0, 0, 0, 0, 0, 0, 0, 0, 0, 0, 0, 0, 0, 0, 0, 0]\n",
    "# postfix = [2, 91, 2, 56, 2, 106, 47, 2, 134, 128, 50, 88, 48, 47, 2, 49, 48, 2, 56, 2, 91, 2, 119, 91, 2, 56, 2, 106, 47, 2, 119, 128, 50, 88, 48, 47, 2, 49, 48, 2, 56, 2, 91, 2, 119, 91, 2, 56, 2, 106, 47, 2, 119, 128, 50, 88, 33, 124, 49, 48, 134, 47, 2, 119]\n",
    "# label_type = 128"
   ]
  },
  {
   "cell_type": "code",
   "execution_count": 20,
   "metadata": {},
   "outputs": [],
   "source": [
    "# prefix =[0, 0, 0, 0, 0, 0, 0, 0, 0, 128, 119, 2, 47, 134, 48, 49, 124, 33, 88, 50, 128, 119, 2, 47, 106, 2, 56, 2, 91, 119, 2, 91, 2, 56, 2, 48, 49, 2, 47, 48, 88, 50, 128, 119, 2, 47, 106, 2, 56, 2, 91, 119, 2, 91, 2, 56, 2, 48, 49, 2, 47, 48, 88, 50]\n",
    "# postfix = [48, 2, 56, 2, 106, 91, 2, 56, 2, 91, 2, 56, 2, 106, 47, 2, 134, 50, 88, 48, 47, 2, 49, 48, 2, 56, 2, 106, 91, 2, 56, 2, 91, 2, 56, 2, 106, 47, 2, 134, 128, 50, 88, 48, 47, 2, 49, 48, 2, 56, 2, 106, 91, 2, 56, 2, 91, 2, 56, 2, 106, 47, 2, 134]\n",
    "# label_type = 128"
   ]
  },
  {
   "cell_type": "code",
   "execution_count": 21,
   "metadata": {},
   "outputs": [],
   "source": [
    "# predictor.predict(prefix, postfix, model)"
   ]
  },
  {
   "cell_type": "code",
   "execution_count": null,
   "metadata": {},
   "outputs": [],
   "source": []
  }
 ],
 "metadata": {
  "kernelspec": {
   "display_name": "Python 3.9.12 ('base')",
   "language": "python",
   "name": "python3"
  },
  "language_info": {
   "codemirror_mode": {
    "name": "ipython",
    "version": 3
   },
   "file_extension": ".py",
   "mimetype": "text/x-python",
   "name": "python",
   "nbconvert_exporter": "python",
   "pygments_lexer": "ipython3",
   "version": "3.9.12"
  },
  "orig_nbformat": 4,
  "vscode": {
   "interpreter": {
    "hash": "348b9cd948ce87438be2e622031b2ecfa29bc2d3ecc0fd03127b9a24b30227df"
   }
  }
 },
 "nbformat": 4,
 "nbformat_minor": 2
}
